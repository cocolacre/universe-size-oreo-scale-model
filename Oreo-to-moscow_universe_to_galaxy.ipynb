{
 "cells": [
  {
   "cell_type": "code",
   "execution_count": 6,
   "id": "8def52bd",
   "metadata": {},
   "outputs": [],
   "source": [
    "import math\n",
    "#(visible)Universe size in light years\n",
    "uni_size_ly = 50*1_000_000_000\n",
    "\n",
    "# How many meters are there in a light year?\n",
    "sec_in_year = 365 * 24*60*60\n",
    "c = 300_000_000 #m\\s\n",
    "meters_in_ly = c * sec_in_year"
   ]
  },
  {
   "cell_type": "code",
   "execution_count": 8,
   "id": "88ab86de",
   "metadata": {},
   "outputs": [
    {
     "data": {
      "text/plain": [
       "(9460800000000000, 15.97592786165503)"
      ]
     },
     "execution_count": 8,
     "metadata": {},
     "output_type": "execute_result"
    }
   ],
   "source": [
    "meters_in_ly, math.log10(meters_in_ly) # so 1 l.y. ~= 10e16 meters."
   ]
  },
  {
   "cell_type": "code",
   "execution_count": 10,
   "id": "12b2a879",
   "metadata": {},
   "outputs": [
    {
     "data": {
      "text/plain": [
       "(473040000000000000000000000, 26.67489786599105)"
      ]
     },
     "execution_count": 10,
     "metadata": {},
     "output_type": "execute_result"
    }
   ],
   "source": [
    "uni_size_meters = meters_in_ly * uni_size_ly\n",
    "uni_size_meters, math.log10(uni_size_meters) #so Visible Universe is ~10e27 meters across."
   ]
  },
  {
   "cell_type": "code",
   "execution_count": 14,
   "id": "ba2c5855",
   "metadata": {},
   "outputs": [
    {
     "data": {
      "text/plain": [
       "(946080000000000000000, 20.97592786165503)"
      ]
     },
     "execution_count": 14,
     "metadata": {},
     "output_type": "execute_result"
    }
   ],
   "source": [
    "avg_galaxy_size_ly = 100_000 #ly \n",
    "avg_galaxy_size_meters = avg_galaxy_size_ly * meters_in_ly\n",
    "avg_galaxy_size_meters, math.log10(avg_galaxy_size_meters) #avg galaxy is 10e21 meters across.\n",
    "avg_distance_between_galaxies_ly = 1_000_000 #10 times the size of a galaxy (on average)"
   ]
  },
  {
   "cell_type": "code",
   "execution_count": 22,
   "id": "5a423be4",
   "metadata": {},
   "outputs": [],
   "source": [
    "moscow_size_meters = 50_000 #50km = 50_000 m\n",
    "oreo_size_meters = 0.1 #5cm = 0.05 m"
   ]
  },
  {
   "cell_type": "code",
   "execution_count": 23,
   "id": "4471f532",
   "metadata": {},
   "outputs": [
    {
     "data": {
      "text/plain": [
       "500000.0"
      ]
     },
     "execution_count": 23,
     "metadata": {},
     "output_type": "execute_result"
    }
   ],
   "source": [
    "moscow_to_oreo_ratio = moscow_size_meters / oreo_size_meters\n",
    "moscow_to_oreo_ratio # 1 million"
   ]
  },
  {
   "cell_type": "code",
   "execution_count": 24,
   "id": "77e8c680",
   "metadata": {},
   "outputs": [
    {
     "data": {
      "text/plain": [
       "500000.0"
      ]
     },
     "execution_count": 24,
     "metadata": {},
     "output_type": "execute_result"
    }
   ],
   "source": [
    "uni_to_galaxy_ratio = uni_size_meters / avg_galaxy_size_meters\n",
    "uni_to_galaxy_ratio"
   ]
  }
 ],
 "metadata": {
  "kernelspec": {
   "display_name": "Python 3 (ipykernel)",
   "language": "python",
   "name": "python3"
  },
  "language_info": {
   "codemirror_mode": {
    "name": "ipython",
    "version": 3
   },
   "file_extension": ".py",
   "mimetype": "text/x-python",
   "name": "python",
   "nbconvert_exporter": "python",
   "pygments_lexer": "ipython3",
   "version": "3.10.9"
  }
 },
 "nbformat": 4,
 "nbformat_minor": 5
}
